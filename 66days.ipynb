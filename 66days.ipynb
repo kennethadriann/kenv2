{
 "cells": [
  {
   "cell_type": "code",
   "execution_count": 1,
   "metadata": {},
   "outputs": [],
   "source": [
    "import pandas as pd\n",
    "from datetime import datetime\n",
    "from time import sleep\n",
    "from datetime import timedelta\n",
    "import numpy as np\n",
    "import mysql.connector\n",
    "import os as os\n",
    "from os.path import isfile, join\n",
    "import datetime as dt\n",
    "import re\n",
    "import numpy as np\n",
    "from os import listdir\n",
    "import shutil"
   ]
  },
  {
   "cell_type": "code",
   "execution_count": 2,
   "metadata": {},
   "outputs": [],
   "source": [
    "prod_dir = os.environ['PROD_DIR']\n",
    "pth = join(prod_dir,'66days','')"
   ]
  },
  {
   "cell_type": "code",
   "execution_count": 3,
   "metadata": {},
   "outputs": [],
   "source": [
    "df = pd.read_csv(join(pth,'Introduction_20211117.csv'))"
   ]
  },
  {
   "cell_type": "code",
   "execution_count": 34,
   "metadata": {},
   "outputs": [],
   "source": [
    "df2 = pd.read_csv(join(pth,'Progress_20211117.csv'))"
   ]
  },
  {
   "cell_type": "code",
   "execution_count": 35,
   "metadata": {},
   "outputs": [
    {
     "data": {
      "text/plain": [
       "0       Day 14 of Day 66:\\n\\nMachine learning, Statist...\n",
       "1       Forgot to post yesterday Day 8: Did data analy...\n",
       "2       Day 13: \\n- Got a good but simple viz on a df ...\n",
       "3       Day 11: \\n- Completed day 9 of 10 days of stat...\n",
       "4       Day 13 of 66: \\n- Chill day of watching videos...\n",
       "                              ...                        \n",
       "6172                     Hi Guys, Started with basic Stat\n",
       "6173    Guys i am a beginner , would appreciate if you...\n",
       "6174    Thank you <@!743513993250996376> It can defini...\n",
       "6175    > Day1: Created a GitHub repo. Created an R an...\n",
       "6176    Day1: Created a GitHub repo. Created an R and ...\n",
       "Name: content, Length: 6177, dtype: object"
      ]
     },
     "execution_count": 35,
     "metadata": {},
     "output_type": "execute_result"
    }
   ],
   "source": [
    "df2['content'].astype(str)"
   ]
  },
  {
   "cell_type": "code",
   "execution_count": null,
   "metadata": {},
   "outputs": [],
   "source": [
    "#df= df[(df['comments'].str.contains('CONVERT'))] "
   ]
  },
  {
   "cell_type": "code",
   "execution_count": 36,
   "metadata": {},
   "outputs": [],
   "source": [
    "df2 = df2[~(df2['author'].str.contains('MEE6'))] "
   ]
  },
  {
   "cell_type": "code",
   "execution_count": null,
   "metadata": {},
   "outputs": [],
   "source": []
  },
  {
   "cell_type": "code",
   "execution_count": null,
   "metadata": {},
   "outputs": [],
   "source": [
    "def extract_day(line):\n",
    "    for x in line:\n",
    "            x =  re.findall(r'day[+\\s\\d]+|Day[+\\s\\d]+|DAY[+\\s\\d]+',line)\n",
    "            #x =  re.findall(r'day[+\\s\\d]+|Day[+\\s\\d]+|DAY[+\\s\\d]+',line)\n",
    "            #x = re.search(r'[\\d]+',line)\n",
    "            x = re.findall(r'[\\d]+',str(x))\n",
    "            #x = list(dict.fromkeys(x))\n",
    "            #x = ' '.join(map(str, x))\n",
    "    if (''.join(map(str, x))).isdigit():\n",
    "            return ''.join(map(str, x[0]))\n",
    "    elif not (''.join(map(str, x))).isdigit():\n",
    "            #x = re.findall(r'day[+\\d]+|Day[+\\d]+|DAY[+\\d]+',line)\n",
    "            x = re.findall(r'day[+\\d]+|Day[+\\d]+|DAY[+\\d]+|day[+\\#\\d]+|Day[+\\s\\#\\d]+|DAY[+\\#\\d]+',line)\n",
    "            #x = re.search(r'[\\d]+',line)\n",
    "            x = re.findall(r'[\\d]+',str(x))\n",
    "    elif (''.join(map(str, x))).isdigit():\n",
    "            return ''.join(map(str, x[0]))\n",
    "    #elif not (''.join(map(str, x))).isdigit():\n",
    "     #       x = re.findall(r'day[+\\#\\d]+|Day[+\\s\\#\\d]+|DAY[+\\#\\d]+',line)\n",
    "      #      x = re.findall(r'[\\d]+',str(x)) \n",
    "    #elif (''.join(map(str, x))).isdigit():\n",
    "     #       return ''.join(map(str, x[0]))\n",
    "    else:\n",
    "        return 0"
   ]
  },
  {
   "cell_type": "code",
   "execution_count": 54,
   "metadata": {},
   "outputs": [],
   "source": [
    "def extract_day(line):\n",
    "    for x in line:\n",
    "            #x =  re.findall(r'day[+\\s\\d]+|Day[+\\s\\d]+|DAY[+\\s\\d]+|day[+\\d]+|Day[+\\d]+|DAY[+\\d]+|day[+\\#\\d]+|Day[+\\s\\#\\d]+|DAY[+\\#\\d]+',line)\n",
    "            x =  re.findall(r'Day[+\\s\\#\\d]+|day[+\\s\\#\\d]+|DAY[+\\s\\#\\d]+|day[+\\s\\d]+|day[+\\d]+|DAY[+\\s\\d]+|D[+\\d]+|d[+\\d]+|days[+\\d]+|Day[+\\-\\d]+|Day[+\\s\\-\\d]+|Days[+\\s\\d]+',line)\n",
    "            #x = re.search(r'[\\d]+',line)\n",
    "            x = re.findall(r'[\\d]+',str(x))\n",
    "            #x = list(dict.fromkeys(x))\n",
    "            #x = ' '.join(map(str, x))\n",
    "    if (''.join(map(str, x))).isdigit():\n",
    "            return ''.join(map(str, x[0]))\n",
    "    else:\n",
    "        return 0"
   ]
  },
  {
   "cell_type": "code",
   "execution_count": 56,
   "metadata": {
    "scrolled": true
   },
   "outputs": [],
   "source": [
    "df2['Progress']= df2.apply(lambda row :extract_day(row['content']),axis=1 )"
   ]
  },
  {
   "cell_type": "code",
   "execution_count": 39,
   "metadata": {},
   "outputs": [],
   "source": [
    "df2['time'] =pd.to_datetime(df2['time'])"
   ]
  },
  {
   "cell_type": "code",
   "execution_count": 57,
   "metadata": {},
   "outputs": [
    {
     "data": {
      "text/html": [
       "<div>\n",
       "<style scoped>\n",
       "    .dataframe tbody tr th:only-of-type {\n",
       "        vertical-align: middle;\n",
       "    }\n",
       "\n",
       "    .dataframe tbody tr th {\n",
       "        vertical-align: top;\n",
       "    }\n",
       "\n",
       "    .dataframe thead th {\n",
       "        text-align: right;\n",
       "    }\n",
       "</style>\n",
       "<table border=\"1\" class=\"dataframe\">\n",
       "  <thead>\n",
       "    <tr style=\"text-align: right;\">\n",
       "      <th></th>\n",
       "      <th>Unnamed: 0</th>\n",
       "      <th>content</th>\n",
       "      <th>time</th>\n",
       "      <th>author</th>\n",
       "      <th>Progress</th>\n",
       "    </tr>\n",
       "  </thead>\n",
       "  <tbody>\n",
       "    <tr>\n",
       "      <th>0</th>\n",
       "      <td>0</td>\n",
       "      <td>Day 14 of Day 66:\\n\\nMachine learning, Statist...</td>\n",
       "      <td>2021-01-17</td>\n",
       "      <td>CodebyUlad</td>\n",
       "      <td>14</td>\n",
       "    </tr>\n",
       "    <tr>\n",
       "      <th>1</th>\n",
       "      <td>1</td>\n",
       "      <td>Forgot to post yesterday Day 8: Did data analy...</td>\n",
       "      <td>2021-01-17</td>\n",
       "      <td>haider</td>\n",
       "      <td>8</td>\n",
       "    </tr>\n",
       "    <tr>\n",
       "      <th>2</th>\n",
       "      <td>2</td>\n",
       "      <td>Day 13: \\n- Got a good but simple viz on a df ...</td>\n",
       "      <td>2021-01-17</td>\n",
       "      <td>WyattGwyon</td>\n",
       "      <td>13</td>\n",
       "    </tr>\n",
       "    <tr>\n",
       "      <th>3</th>\n",
       "      <td>3</td>\n",
       "      <td>Day 11: \\n- Completed day 9 of 10 days of stat...</td>\n",
       "      <td>2021-01-17</td>\n",
       "      <td>ibrahimvid</td>\n",
       "      <td>11</td>\n",
       "    </tr>\n",
       "    <tr>\n",
       "      <th>4</th>\n",
       "      <td>4</td>\n",
       "      <td>Day 13 of 66: \\n- Chill day of watching videos...</td>\n",
       "      <td>2021-01-17</td>\n",
       "      <td>vaseline</td>\n",
       "      <td>13</td>\n",
       "    </tr>\n",
       "    <tr>\n",
       "      <th>...</th>\n",
       "      <td>...</td>\n",
       "      <td>...</td>\n",
       "      <td>...</td>\n",
       "      <td>...</td>\n",
       "      <td>...</td>\n",
       "    </tr>\n",
       "    <tr>\n",
       "      <th>6172</th>\n",
       "      <td>6172</td>\n",
       "      <td>Hi Guys, Started with basic Stat</td>\n",
       "      <td>2020-08-31</td>\n",
       "      <td>Arth</td>\n",
       "      <td>0</td>\n",
       "    </tr>\n",
       "    <tr>\n",
       "      <th>6173</th>\n",
       "      <td>6173</td>\n",
       "      <td>Guys i am a beginner , would appreciate if you...</td>\n",
       "      <td>2020-08-31</td>\n",
       "      <td>vc</td>\n",
       "      <td>1</td>\n",
       "    </tr>\n",
       "    <tr>\n",
       "      <th>6174</th>\n",
       "      <td>6174</td>\n",
       "      <td>Thank you &lt;@!743513993250996376&gt; It can defini...</td>\n",
       "      <td>2020-08-31</td>\n",
       "      <td>William Guesdon</td>\n",
       "      <td>0</td>\n",
       "    </tr>\n",
       "    <tr>\n",
       "      <th>6175</th>\n",
       "      <td>6175</td>\n",
       "      <td>&gt; Day1: Created a GitHub repo. Created an R an...</td>\n",
       "      <td>2020-08-31</td>\n",
       "      <td>Andrew Mo</td>\n",
       "      <td>1</td>\n",
       "    </tr>\n",
       "    <tr>\n",
       "      <th>6176</th>\n",
       "      <td>6176</td>\n",
       "      <td>Day1: Created a GitHub repo. Created an R and ...</td>\n",
       "      <td>2020-08-31</td>\n",
       "      <td>William Guesdon</td>\n",
       "      <td>1</td>\n",
       "    </tr>\n",
       "  </tbody>\n",
       "</table>\n",
       "<p>5746 rows × 5 columns</p>\n",
       "</div>"
      ],
      "text/plain": [
       "      Unnamed: 0                                            content  \\\n",
       "0              0  Day 14 of Day 66:\\n\\nMachine learning, Statist...   \n",
       "1              1  Forgot to post yesterday Day 8: Did data analy...   \n",
       "2              2  Day 13: \\n- Got a good but simple viz on a df ...   \n",
       "3              3  Day 11: \\n- Completed day 9 of 10 days of stat...   \n",
       "4              4  Day 13 of 66: \\n- Chill day of watching videos...   \n",
       "...          ...                                                ...   \n",
       "6172        6172                   Hi Guys, Started with basic Stat   \n",
       "6173        6173  Guys i am a beginner , would appreciate if you...   \n",
       "6174        6174  Thank you <@!743513993250996376> It can defini...   \n",
       "6175        6175  > Day1: Created a GitHub repo. Created an R an...   \n",
       "6176        6176  Day1: Created a GitHub repo. Created an R and ...   \n",
       "\n",
       "           time           author Progress  \n",
       "0    2021-01-17       CodebyUlad       14  \n",
       "1    2021-01-17           haider        8  \n",
       "2    2021-01-17       WyattGwyon       13  \n",
       "3    2021-01-17       ibrahimvid       11  \n",
       "4    2021-01-17         vaseline       13  \n",
       "...         ...              ...      ...  \n",
       "6172 2020-08-31             Arth        0  \n",
       "6173 2020-08-31               vc        1  \n",
       "6174 2020-08-31  William Guesdon        0  \n",
       "6175 2020-08-31        Andrew Mo        1  \n",
       "6176 2020-08-31  William Guesdon        1  \n",
       "\n",
       "[5746 rows x 5 columns]"
      ]
     },
     "execution_count": 57,
     "metadata": {},
     "output_type": "execute_result"
    }
   ],
   "source": [
    "df2"
   ]
  },
  {
   "cell_type": "code",
   "execution_count": 23,
   "metadata": {},
   "outputs": [
    {
     "data": {
      "text/html": [
       "<div>\n",
       "<style scoped>\n",
       "    .dataframe tbody tr th:only-of-type {\n",
       "        vertical-align: middle;\n",
       "    }\n",
       "\n",
       "    .dataframe tbody tr th {\n",
       "        vertical-align: top;\n",
       "    }\n",
       "\n",
       "    .dataframe thead th {\n",
       "        text-align: right;\n",
       "    }\n",
       "</style>\n",
       "<table border=\"1\" class=\"dataframe\">\n",
       "  <thead>\n",
       "    <tr style=\"text-align: right;\">\n",
       "      <th></th>\n",
       "      <th>Unnamed: 0</th>\n",
       "      <th>content</th>\n",
       "      <th>time</th>\n",
       "      <th>author</th>\n",
       "      <th>Progress</th>\n",
       "    </tr>\n",
       "  </thead>\n",
       "  <tbody>\n",
       "    <tr>\n",
       "      <th>6176</th>\n",
       "      <td>6176</td>\n",
       "      <td>Day1: Created a GitHub repo. Created an R and ...</td>\n",
       "      <td>2020-08-31</td>\n",
       "      <td>William Guesdon</td>\n",
       "      <td>1</td>\n",
       "    </tr>\n",
       "    <tr>\n",
       "      <th>6157</th>\n",
       "      <td>6157</td>\n",
       "      <td>Day 01: Started to learn Microsoft Power BI on...</td>\n",
       "      <td>2020-08-31</td>\n",
       "      <td>outdoor-houssem</td>\n",
       "      <td>01</td>\n",
       "    </tr>\n",
       "    <tr>\n",
       "      <th>6159</th>\n",
       "      <td>6159</td>\n",
       "      <td>I've actually started learning before I knew t...</td>\n",
       "      <td>2020-08-31</td>\n",
       "      <td>gjysme2</td>\n",
       "      <td>1</td>\n",
       "    </tr>\n",
       "    <tr>\n",
       "      <th>6160</th>\n",
       "      <td>6160</td>\n",
       "      <td>Day 1: Working on different libraries for data...</td>\n",
       "      <td>2020-08-31</td>\n",
       "      <td>Night_Fury</td>\n",
       "      <td>1</td>\n",
       "    </tr>\n",
       "    <tr>\n",
       "      <th>6161</th>\n",
       "      <td>6161</td>\n",
       "      <td>Day 1-2: created a summary on web scraping via...</td>\n",
       "      <td>2020-08-31</td>\n",
       "      <td>Lukas.</td>\n",
       "      <td>1</td>\n",
       "    </tr>\n",
       "    <tr>\n",
       "      <th>...</th>\n",
       "      <td>...</td>\n",
       "      <td>...</td>\n",
       "      <td>...</td>\n",
       "      <td>...</td>\n",
       "      <td>...</td>\n",
       "    </tr>\n",
       "    <tr>\n",
       "      <th>17</th>\n",
       "      <td>17</td>\n",
       "      <td>Day 13:\\nIntentionally not going to do much, b...</td>\n",
       "      <td>2021-01-17</td>\n",
       "      <td>tim</td>\n",
       "      <td>13</td>\n",
       "    </tr>\n",
       "    <tr>\n",
       "      <th>19</th>\n",
       "      <td>19</td>\n",
       "      <td>Day 13 of #66DaysOfData with Ken Jee, Round 2!...</td>\n",
       "      <td>2021-01-17</td>\n",
       "      <td>Hugo-Viotti</td>\n",
       "      <td>13</td>\n",
       "    </tr>\n",
       "    <tr>\n",
       "      <th>20</th>\n",
       "      <td>20</td>\n",
       "      <td>Day 13 (Saturday) : Figuring out how the optio...</td>\n",
       "      <td>2021-01-17</td>\n",
       "      <td>Alx</td>\n",
       "      <td>13</td>\n",
       "    </tr>\n",
       "    <tr>\n",
       "      <th>9</th>\n",
       "      <td>9</td>\n",
       "      <td>Day 20:\\n- Advanced SQL for Query Tuning and P...</td>\n",
       "      <td>2021-01-17</td>\n",
       "      <td>PhoneThiri</td>\n",
       "      <td>20</td>\n",
       "    </tr>\n",
       "    <tr>\n",
       "      <th>0</th>\n",
       "      <td>0</td>\n",
       "      <td>Day 14 of Day 66:\\n\\nMachine learning, Statist...</td>\n",
       "      <td>2021-01-17</td>\n",
       "      <td>CodebyUlad</td>\n",
       "      <td>14</td>\n",
       "    </tr>\n",
       "  </tbody>\n",
       "</table>\n",
       "<p>5746 rows × 5 columns</p>\n",
       "</div>"
      ],
      "text/plain": [
       "      Unnamed: 0                                            content  \\\n",
       "6176        6176  Day1: Created a GitHub repo. Created an R and ...   \n",
       "6157        6157  Day 01: Started to learn Microsoft Power BI on...   \n",
       "6159        6159  I've actually started learning before I knew t...   \n",
       "6160        6160  Day 1: Working on different libraries for data...   \n",
       "6161        6161  Day 1-2: created a summary on web scraping via...   \n",
       "...          ...                                                ...   \n",
       "17            17  Day 13:\\nIntentionally not going to do much, b...   \n",
       "19            19  Day 13 of #66DaysOfData with Ken Jee, Round 2!...   \n",
       "20            20  Day 13 (Saturday) : Figuring out how the optio...   \n",
       "9              9  Day 20:\\n- Advanced SQL for Query Tuning and P...   \n",
       "0              0  Day 14 of Day 66:\\n\\nMachine learning, Statist...   \n",
       "\n",
       "           time           author Progress  \n",
       "6176 2020-08-31  William Guesdon        1  \n",
       "6157 2020-08-31  outdoor-houssem       01  \n",
       "6159 2020-08-31          gjysme2        1  \n",
       "6160 2020-08-31       Night_Fury        1  \n",
       "6161 2020-08-31           Lukas.        1  \n",
       "...         ...              ...      ...  \n",
       "17   2021-01-17              tim       13  \n",
       "19   2021-01-17      Hugo-Viotti       13  \n",
       "20   2021-01-17              Alx       13  \n",
       "9    2021-01-17       PhoneThiri       20  \n",
       "0    2021-01-17       CodebyUlad       14  \n",
       "\n",
       "[5746 rows x 5 columns]"
      ]
     },
     "execution_count": 23,
     "metadata": {},
     "output_type": "execute_result"
    }
   ],
   "source": [
    "df2.sort_values('time')"
   ]
  },
  {
   "cell_type": "code",
   "execution_count": 58,
   "metadata": {},
   "outputs": [],
   "source": [
    "a = df2.sort_values('time').drop_duplicates(subset=\"author\", keep=\"last\")         "
   ]
  },
  {
   "cell_type": "code",
   "execution_count": 59,
   "metadata": {},
   "outputs": [],
   "source": [
    "a = a[['author','Progress']]"
   ]
  },
  {
   "cell_type": "code",
   "execution_count": 79,
   "metadata": {},
   "outputs": [
    {
     "data": {
      "text/plain": [
       "Unnamed: 0                                                  112\n",
       "content       Day 12:\\nBack to basics today, with some Libre...\n",
       "time                                        2021-01-15 00:00:00\n",
       "author                                                      Rea\n",
       "Progress                                                     12\n",
       "Name: 112, dtype: object"
      ]
     },
     "execution_count": 79,
     "metadata": {},
     "output_type": "execute_result"
    }
   ],
   "source": [
    "df2.iloc[100]"
   ]
  },
  {
   "cell_type": "code",
   "execution_count": null,
   "metadata": {},
   "outputs": [],
   "source": []
  },
  {
   "cell_type": "code",
   "execution_count": 42,
   "metadata": {},
   "outputs": [],
   "source": [
    "a.to_csv(join(pth,'test.csv'))"
   ]
  },
  {
   "cell_type": "code",
   "execution_count": null,
   "metadata": {},
   "outputs": [],
   "source": []
  },
  {
   "cell_type": "code",
   "execution_count": null,
   "metadata": {},
   "outputs": [],
   "source": []
  },
  {
   "cell_type": "code",
   "execution_count": null,
   "metadata": {},
   "outputs": [],
   "source": []
  },
  {
   "cell_type": "code",
   "execution_count": 30,
   "metadata": {},
   "outputs": [],
   "source": [
    "a['Progress']=a['Progress'].astype(float)"
   ]
  },
  {
   "cell_type": "code",
   "execution_count": 31,
   "metadata": {
    "scrolled": true
   },
   "outputs": [
    {
     "data": {
      "text/html": [
       "<div>\n",
       "<style scoped>\n",
       "    .dataframe tbody tr th:only-of-type {\n",
       "        vertical-align: middle;\n",
       "    }\n",
       "\n",
       "    .dataframe tbody tr th {\n",
       "        vertical-align: top;\n",
       "    }\n",
       "\n",
       "    .dataframe thead th {\n",
       "        text-align: right;\n",
       "    }\n",
       "</style>\n",
       "<table border=\"1\" class=\"dataframe\">\n",
       "  <thead>\n",
       "    <tr style=\"text-align: right;\">\n",
       "      <th></th>\n",
       "      <th>author</th>\n",
       "      <th>Progress</th>\n",
       "    </tr>\n",
       "  </thead>\n",
       "  <tbody>\n",
       "    <tr>\n",
       "      <th>6007</th>\n",
       "      <td>thebluerabbits</td>\n",
       "      <td>0.0</td>\n",
       "    </tr>\n",
       "    <tr>\n",
       "      <th>1373</th>\n",
       "      <td>Brian.Rafferty</td>\n",
       "      <td>0.0</td>\n",
       "    </tr>\n",
       "    <tr>\n",
       "      <th>2574</th>\n",
       "      <td>Ramreddy Bolla</td>\n",
       "      <td>0.0</td>\n",
       "    </tr>\n",
       "    <tr>\n",
       "      <th>6102</th>\n",
       "      <td>SaikatDT</td>\n",
       "      <td>0.0</td>\n",
       "    </tr>\n",
       "    <tr>\n",
       "      <th>1387</th>\n",
       "      <td>nathanlee</td>\n",
       "      <td>0.0</td>\n",
       "    </tr>\n",
       "    <tr>\n",
       "      <th>...</th>\n",
       "      <td>...</td>\n",
       "      <td>...</td>\n",
       "    </tr>\n",
       "    <tr>\n",
       "      <th>3125</th>\n",
       "      <td>Goliath59nph</td>\n",
       "      <td>40.0</td>\n",
       "    </tr>\n",
       "    <tr>\n",
       "      <th>3531</th>\n",
       "      <td>Tina Huang</td>\n",
       "      <td>42.0</td>\n",
       "    </tr>\n",
       "    <tr>\n",
       "      <th>961</th>\n",
       "      <td>₰ Mysterious</td>\n",
       "      <td>51.0</td>\n",
       "    </tr>\n",
       "    <tr>\n",
       "      <th>6092</th>\n",
       "      <td>maisdev</td>\n",
       "      <td>53.0</td>\n",
       "    </tr>\n",
       "    <tr>\n",
       "      <th>6109</th>\n",
       "      <td>Sven</td>\n",
       "      <td>66.0</td>\n",
       "    </tr>\n",
       "  </tbody>\n",
       "</table>\n",
       "<p>517 rows × 2 columns</p>\n",
       "</div>"
      ],
      "text/plain": [
       "              author  Progress\n",
       "6007  thebluerabbits       0.0\n",
       "1373  Brian.Rafferty       0.0\n",
       "2574  Ramreddy Bolla       0.0\n",
       "6102        SaikatDT       0.0\n",
       "1387       nathanlee       0.0\n",
       "...              ...       ...\n",
       "3125    Goliath59nph      40.0\n",
       "3531      Tina Huang      42.0\n",
       "961     ₰ Mysterious      51.0\n",
       "6092         maisdev      53.0\n",
       "6109            Sven      66.0\n",
       "\n",
       "[517 rows x 2 columns]"
      ]
     },
     "execution_count": 31,
     "metadata": {},
     "output_type": "execute_result"
    }
   ],
   "source": [
    "a.sort_values('Progress')"
   ]
  },
  {
   "cell_type": "code",
   "execution_count": null,
   "metadata": {},
   "outputs": [],
   "source": [
    "a"
   ]
  },
  {
   "cell_type": "code",
   "execution_count": 32,
   "metadata": {},
   "outputs": [],
   "source": [
    "b = a.groupby(['Progress']).agg({'author':\"count\"}).reset_index()\n"
   ]
  },
  {
   "cell_type": "code",
   "execution_count": 33,
   "metadata": {},
   "outputs": [
    {
     "data": {
      "text/html": [
       "<div>\n",
       "<style scoped>\n",
       "    .dataframe tbody tr th:only-of-type {\n",
       "        vertical-align: middle;\n",
       "    }\n",
       "\n",
       "    .dataframe tbody tr th {\n",
       "        vertical-align: top;\n",
       "    }\n",
       "\n",
       "    .dataframe thead th {\n",
       "        text-align: right;\n",
       "    }\n",
       "</style>\n",
       "<table border=\"1\" class=\"dataframe\">\n",
       "  <thead>\n",
       "    <tr style=\"text-align: right;\">\n",
       "      <th></th>\n",
       "      <th>Progress</th>\n",
       "      <th>author</th>\n",
       "    </tr>\n",
       "  </thead>\n",
       "  <tbody>\n",
       "    <tr>\n",
       "      <th>0</th>\n",
       "      <td>0.0</td>\n",
       "      <td>76</td>\n",
       "    </tr>\n",
       "    <tr>\n",
       "      <th>1</th>\n",
       "      <td>1.0</td>\n",
       "      <td>371</td>\n",
       "    </tr>\n",
       "    <tr>\n",
       "      <th>2</th>\n",
       "      <td>2.0</td>\n",
       "      <td>30</td>\n",
       "    </tr>\n",
       "    <tr>\n",
       "      <th>3</th>\n",
       "      <td>3.0</td>\n",
       "      <td>11</td>\n",
       "    </tr>\n",
       "    <tr>\n",
       "      <th>4</th>\n",
       "      <td>4.0</td>\n",
       "      <td>6</td>\n",
       "    </tr>\n",
       "    <tr>\n",
       "      <th>5</th>\n",
       "      <td>5.0</td>\n",
       "      <td>3</td>\n",
       "    </tr>\n",
       "    <tr>\n",
       "      <th>6</th>\n",
       "      <td>6.0</td>\n",
       "      <td>3</td>\n",
       "    </tr>\n",
       "    <tr>\n",
       "      <th>7</th>\n",
       "      <td>7.0</td>\n",
       "      <td>1</td>\n",
       "    </tr>\n",
       "    <tr>\n",
       "      <th>8</th>\n",
       "      <td>8.0</td>\n",
       "      <td>4</td>\n",
       "    </tr>\n",
       "    <tr>\n",
       "      <th>9</th>\n",
       "      <td>9.0</td>\n",
       "      <td>1</td>\n",
       "    </tr>\n",
       "    <tr>\n",
       "      <th>10</th>\n",
       "      <td>10.0</td>\n",
       "      <td>1</td>\n",
       "    </tr>\n",
       "    <tr>\n",
       "      <th>11</th>\n",
       "      <td>12.0</td>\n",
       "      <td>1</td>\n",
       "    </tr>\n",
       "    <tr>\n",
       "      <th>12</th>\n",
       "      <td>20.0</td>\n",
       "      <td>1</td>\n",
       "    </tr>\n",
       "    <tr>\n",
       "      <th>13</th>\n",
       "      <td>24.0</td>\n",
       "      <td>1</td>\n",
       "    </tr>\n",
       "    <tr>\n",
       "      <th>14</th>\n",
       "      <td>29.0</td>\n",
       "      <td>1</td>\n",
       "    </tr>\n",
       "    <tr>\n",
       "      <th>15</th>\n",
       "      <td>38.0</td>\n",
       "      <td>1</td>\n",
       "    </tr>\n",
       "    <tr>\n",
       "      <th>16</th>\n",
       "      <td>40.0</td>\n",
       "      <td>1</td>\n",
       "    </tr>\n",
       "    <tr>\n",
       "      <th>17</th>\n",
       "      <td>42.0</td>\n",
       "      <td>1</td>\n",
       "    </tr>\n",
       "    <tr>\n",
       "      <th>18</th>\n",
       "      <td>51.0</td>\n",
       "      <td>1</td>\n",
       "    </tr>\n",
       "    <tr>\n",
       "      <th>19</th>\n",
       "      <td>53.0</td>\n",
       "      <td>1</td>\n",
       "    </tr>\n",
       "    <tr>\n",
       "      <th>20</th>\n",
       "      <td>66.0</td>\n",
       "      <td>1</td>\n",
       "    </tr>\n",
       "  </tbody>\n",
       "</table>\n",
       "</div>"
      ],
      "text/plain": [
       "    Progress  author\n",
       "0        0.0      76\n",
       "1        1.0     371\n",
       "2        2.0      30\n",
       "3        3.0      11\n",
       "4        4.0       6\n",
       "5        5.0       3\n",
       "6        6.0       3\n",
       "7        7.0       1\n",
       "8        8.0       4\n",
       "9        9.0       1\n",
       "10      10.0       1\n",
       "11      12.0       1\n",
       "12      20.0       1\n",
       "13      24.0       1\n",
       "14      29.0       1\n",
       "15      38.0       1\n",
       "16      40.0       1\n",
       "17      42.0       1\n",
       "18      51.0       1\n",
       "19      53.0       1\n",
       "20      66.0       1"
      ]
     },
     "execution_count": 33,
     "metadata": {},
     "output_type": "execute_result"
    }
   ],
   "source": [
    "b"
   ]
  },
  {
   "cell_type": "code",
   "execution_count": null,
   "metadata": {},
   "outputs": [],
   "source": []
  },
  {
   "cell_type": "code",
   "execution_count": null,
   "metadata": {},
   "outputs": [],
   "source": []
  },
  {
   "cell_type": "code",
   "execution_count": null,
   "metadata": {},
   "outputs": [],
   "source": []
  },
  {
   "cell_type": "code",
   "execution_count": null,
   "metadata": {},
   "outputs": [],
   "source": []
  },
  {
   "cell_type": "code",
   "execution_count": null,
   "metadata": {},
   "outputs": [],
   "source": []
  },
  {
   "cell_type": "code",
   "execution_count": null,
   "metadata": {},
   "outputs": [],
   "source": []
  },
  {
   "cell_type": "code",
   "execution_count": null,
   "metadata": {},
   "outputs": [],
   "source": []
  },
  {
   "cell_type": "code",
   "execution_count": null,
   "metadata": {},
   "outputs": [],
   "source": []
  },
  {
   "cell_type": "code",
   "execution_count": null,
   "metadata": {},
   "outputs": [],
   "source": []
  },
  {
   "cell_type": "code",
   "execution_count": null,
   "metadata": {},
   "outputs": [],
   "source": []
  },
  {
   "cell_type": "code",
   "execution_count": null,
   "metadata": {},
   "outputs": [],
   "source": []
  },
  {
   "cell_type": "code",
   "execution_count": null,
   "metadata": {},
   "outputs": [],
   "source": []
  },
  {
   "cell_type": "code",
   "execution_count": null,
   "metadata": {
    "scrolled": true
   },
   "outputs": [],
   "source": []
  },
  {
   "cell_type": "code",
   "execution_count": null,
   "metadata": {},
   "outputs": [],
   "source": []
  },
  {
   "cell_type": "code",
   "execution_count": null,
   "metadata": {},
   "outputs": [],
   "source": []
  },
  {
   "cell_type": "code",
   "execution_count": null,
   "metadata": {},
   "outputs": [],
   "source": []
  },
  {
   "cell_type": "code",
   "execution_count": null,
   "metadata": {},
   "outputs": [],
   "source": []
  },
  {
   "cell_type": "code",
   "execution_count": null,
   "metadata": {},
   "outputs": [],
   "source": []
  },
  {
   "cell_type": "code",
   "execution_count": null,
   "metadata": {},
   "outputs": [],
   "source": []
  },
  {
   "cell_type": "code",
   "execution_count": null,
   "metadata": {
    "scrolled": true
   },
   "outputs": [],
   "source": []
  },
  {
   "cell_type": "code",
   "execution_count": null,
   "metadata": {},
   "outputs": [],
   "source": []
  },
  {
   "cell_type": "code",
   "execution_count": null,
   "metadata": {},
   "outputs": [],
   "source": []
  },
  {
   "cell_type": "code",
   "execution_count": null,
   "metadata": {},
   "outputs": [],
   "source": []
  },
  {
   "cell_type": "code",
   "execution_count": null,
   "metadata": {},
   "outputs": [],
   "source": []
  }
 ],
 "metadata": {
  "kernelspec": {
   "display_name": "Python 3",
   "language": "python",
   "name": "python3"
  },
  "language_info": {
   "codemirror_mode": {
    "name": "ipython",
    "version": 3
   },
   "file_extension": ".py",
   "mimetype": "text/x-python",
   "name": "python",
   "nbconvert_exporter": "python",
   "pygments_lexer": "ipython3",
   "version": "3.7.6"
  }
 },
 "nbformat": 4,
 "nbformat_minor": 4
}
