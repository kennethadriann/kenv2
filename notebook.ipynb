{
 "cells": [
  {
   "cell_type": "code",
   "execution_count": 1,
   "id": "093685ef",
   "metadata": {},
   "outputs": [],
   "source": [
    "import pandas as pd\n",
    "import numpy as np\n",
    "import datetime as dt"
   ]
  },
  {
   "cell_type": "markdown",
   "id": "1b0c938e",
   "metadata": {},
   "source": [
    "# Module for visualization"
   ]
  },
  {
   "cell_type": "code",
   "execution_count": 2,
   "id": "ab9396a9",
   "metadata": {},
   "outputs": [],
   "source": [
    "import plotly.graph_objects as go\n",
    "import plotly.figure_factory as ff\n",
    "from plotly.subplots import make_subplots\n",
    "\n",
    "\n"
   ]
  },
  {
   "cell_type": "markdown",
   "id": "1bf24998",
   "metadata": {},
   "source": [
    "## RE is the module for regex . "
   ]
  },
  {
   "cell_type": "code",
   "execution_count": 4,
   "id": "67314301",
   "metadata": {},
   "outputs": [],
   "source": [
    "import re"
   ]
  },
  {
   "cell_type": "markdown",
   "id": "8c932fab",
   "metadata": {},
   "source": [
    "## Convert source to dataframe"
   ]
  },
  {
   "cell_type": "code",
   "execution_count": 5,
   "id": "698a840e",
   "metadata": {},
   "outputs": [],
   "source": [
    "df = pd.read_json('code_source.py')"
   ]
  },
  {
   "cell_type": "markdown",
   "id": "efda10fe",
   "metadata": {},
   "source": [
    "Convert string date to datetime "
   ]
  },
  {
   "cell_type": "code",
   "execution_count": 7,
   "id": "befa8ccb",
   "metadata": {},
   "outputs": [],
   "source": [
    "df['transaction_date'] = pd.to_datetime(df['transaction_date'] )"
   ]
  },
  {
   "cell_type": "code",
   "execution_count": 8,
   "id": "50cf6e72",
   "metadata": {},
   "outputs": [],
   "source": [
    "df['birthdate'] = pd.to_datetime(df['birthdate'] )"
   ]
  },
  {
   "cell_type": "markdown",
   "id": "f0c936bc",
   "metadata": {},
   "source": [
    "check latest date and farthest date of the dataframe"
   ]
  },
  {
   "cell_type": "code",
   "execution_count": 9,
   "id": "318ebee8",
   "metadata": {},
   "outputs": [],
   "source": [
    "df['month'] = df['transaction_date'].dt.month_name()"
   ]
  },
  {
   "cell_type": "code",
   "execution_count": 10,
   "id": "9b20a1ab",
   "metadata": {},
   "outputs": [],
   "source": [
    "df['month_num'] = df['transaction_date'].dt.month"
   ]
  },
  {
   "cell_type": "code",
   "execution_count": 11,
   "id": "f781af93",
   "metadata": {},
   "outputs": [
    {
     "data": {
      "text/plain": [
       "Timestamp('2022-06-30 00:00:00')"
      ]
     },
     "execution_count": 11,
     "metadata": {},
     "output_type": "execute_result"
    }
   ],
   "source": [
    "df['transaction_date'].max()"
   ]
  },
  {
   "cell_type": "code",
   "execution_count": 12,
   "id": "c5b4f674",
   "metadata": {},
   "outputs": [
    {
     "data": {
      "text/plain": [
       "Timestamp('2022-01-01 00:00:00')"
      ]
     },
     "execution_count": 12,
     "metadata": {},
     "output_type": "execute_result"
    }
   ],
   "source": [
    "df['transaction_date'].min()"
   ]
  },
  {
   "cell_type": "code",
   "execution_count": null,
   "id": "da97443b",
   "metadata": {},
   "outputs": [],
   "source": [
    "# list_[1]"
   ]
  },
  {
   "cell_type": "code",
   "execution_count": null,
   "id": "17d69ad8",
   "metadata": {},
   "outputs": [],
   "source": [
    "# inactive_list = df.groupby(['month_num']).username.apply(lambda x: ','.join(x)).fillna('').reset_index().rename({'username': 'previous_list'}, axis=1)"
   ]
  },
  {
   "cell_type": "markdown",
   "id": "52c57a4f",
   "metadata": {},
   "source": [
    "## Transform to Granularity"
   ]
  },
  {
   "cell_type": "markdown",
   "id": "86a27f8c",
   "metadata": {},
   "source": [
    "Assignning the split key for the column transaction_items. \n",
    "\n",
    "The current format is 'HealthyKid 3+,Gummy Vitamins,(x3);HealthyKid 3+,Yummy Vegetables,(x2)'\n",
    "1st step is to split by \";\"\n",
    "2nd step is to split by \",\"\n",
    "and get the value with (x3) for the quantity of each item"
   ]
  },
  {
   "cell_type": "code",
   "execution_count": 13,
   "id": "c4446dc4",
   "metadata": {},
   "outputs": [
    {
     "data": {
      "text/plain": [
       "'HealthyKid 3+,Gummy Vitamins,(x3);HealthyKid 3+,Yummy Vegetables,(x2)'"
      ]
     },
     "execution_count": 13,
     "metadata": {},
     "output_type": "execute_result"
    }
   ],
   "source": [
    "df['transaction_items'][2]"
   ]
  },
  {
   "cell_type": "code",
   "execution_count": 15,
   "id": "904cf6f4",
   "metadata": {},
   "outputs": [],
   "source": [
    "df = df.assign(var=df['transaction_items'].str.split(';'))"
   ]
  },
  {
   "cell_type": "markdown",
   "id": "f2d56849",
   "metadata": {},
   "source": [
    "# Convert to Row"
   ]
  },
  {
   "cell_type": "code",
   "execution_count": 16,
   "id": "7b769d69",
   "metadata": {},
   "outputs": [],
   "source": [
    "df = df.explode('var')"
   ]
  },
  {
   "cell_type": "markdown",
   "id": "0cf62a87",
   "metadata": {},
   "source": [
    "# Repeating the same process above "
   ]
  },
  {
   "cell_type": "code",
   "execution_count": 17,
   "id": "ebac5e14",
   "metadata": {},
   "outputs": [
    {
     "name": "stderr",
     "output_type": "stream",
     "text": [
      "C:\\Users\\kubales\\AppData\\Local\\Temp\\ipykernel_25352\\3064442970.py:1: FutureWarning: The default value of regex will change from True to False in a future version. In addition, single character regular expressions will *not* be treated as literal strings when regex=True.\n",
      "  df['number_of_purchases'] = df['var'].str.split('(',expand=True)[1].str.replace('x','').str.replace(')','').astype(int)\n"
     ]
    }
   ],
   "source": [
    "df['number_of_purchases'] = df['var'].str.split('(',expand=True)[1].str.replace('x','').str.replace(')','').astype(int)"
   ]
  },
  {
   "cell_type": "code",
   "execution_count": 18,
   "id": "4ba8387c",
   "metadata": {},
   "outputs": [],
   "source": [
    "df = df.assign(var=df['var'].str.split(','))"
   ]
  },
  {
   "cell_type": "markdown",
   "id": "5d3e24fa",
   "metadata": {},
   "source": [
    "After assigning a split key , df.explode converts the assigned key to rows "
   ]
  },
  {
   "cell_type": "code",
   "execution_count": 19,
   "id": "554dc0e8",
   "metadata": {},
   "outputs": [],
   "source": [
    "df = df.explode('var')"
   ]
  },
  {
   "cell_type": "markdown",
   "id": "9b6b89f7",
   "metadata": {},
   "source": [
    "### Remove the frame with value \"\\\\(x\" in rows. it should be in new column"
   ]
  },
  {
   "cell_type": "code",
   "execution_count": 20,
   "id": "7c8c8ef1",
   "metadata": {},
   "outputs": [],
   "source": [
    "df = df[~df['var'].str.contains(f\"\\\\(x\")]"
   ]
  },
  {
   "cell_type": "code",
   "execution_count": 21,
   "id": "35ea6c35",
   "metadata": {},
   "outputs": [],
   "source": [
    "df['previous_month_num'] = df['month_num']-1"
   ]
  },
  {
   "cell_type": "markdown",
   "id": "c631c775",
   "metadata": {},
   "source": [
    "# rename assign var column to product name"
   ]
  },
  {
   "cell_type": "code",
   "execution_count": 22,
   "id": "c43b73dc",
   "metadata": {},
   "outputs": [],
   "source": [
    "df.rename(columns ={'var': 'product_name'},inplace=True)"
   ]
  },
  {
   "cell_type": "code",
   "execution_count": 23,
   "id": "1393ebee",
   "metadata": {},
   "outputs": [
    {
     "data": {
      "text/html": [
       "<div>\n",
       "<style scoped>\n",
       "    .dataframe tbody tr th:only-of-type {\n",
       "        vertical-align: middle;\n",
       "    }\n",
       "\n",
       "    .dataframe tbody tr th {\n",
       "        vertical-align: top;\n",
       "    }\n",
       "\n",
       "    .dataframe thead th {\n",
       "        text-align: right;\n",
       "    }\n",
       "</style>\n",
       "<table border=\"1\" class=\"dataframe\">\n",
       "  <thead>\n",
       "    <tr style=\"text-align: right;\">\n",
       "      <th></th>\n",
       "      <th>address</th>\n",
       "      <th>birthdate</th>\n",
       "      <th>mail</th>\n",
       "      <th>name</th>\n",
       "      <th>sex</th>\n",
       "      <th>username</th>\n",
       "      <th>transaction_items</th>\n",
       "      <th>transaction_value</th>\n",
       "      <th>transaction_date</th>\n",
       "      <th>month</th>\n",
       "      <th>month_num</th>\n",
       "      <th>product_name</th>\n",
       "      <th>number_of_purchases</th>\n",
       "      <th>previous_month_num</th>\n",
       "    </tr>\n",
       "  </thead>\n",
       "  <tbody>\n",
       "    <tr>\n",
       "      <th>0</th>\n",
       "      <td>USNS Wagner\\nFPO AE 00917</td>\n",
       "      <td>1926-03-11</td>\n",
       "      <td>watsonbrenda@gmail.com</td>\n",
       "      <td>Jennifer Campbell</td>\n",
       "      <td>F</td>\n",
       "      <td>veronicawells</td>\n",
       "      <td>Exotic Extras,Beef Chicharon,(x4)</td>\n",
       "      <td>5196</td>\n",
       "      <td>2022-01-12</td>\n",
       "      <td>January</td>\n",
       "      <td>1</td>\n",
       "      <td>Exotic Extras</td>\n",
       "      <td>4</td>\n",
       "      <td>0</td>\n",
       "    </tr>\n",
       "    <tr>\n",
       "      <th>0</th>\n",
       "      <td>USNS Wagner\\nFPO AE 00917</td>\n",
       "      <td>1926-03-11</td>\n",
       "      <td>watsonbrenda@gmail.com</td>\n",
       "      <td>Jennifer Campbell</td>\n",
       "      <td>F</td>\n",
       "      <td>veronicawells</td>\n",
       "      <td>Exotic Extras,Beef Chicharon,(x4)</td>\n",
       "      <td>5196</td>\n",
       "      <td>2022-01-12</td>\n",
       "      <td>January</td>\n",
       "      <td>1</td>\n",
       "      <td>Beef Chicharon</td>\n",
       "      <td>4</td>\n",
       "      <td>0</td>\n",
       "    </tr>\n",
       "    <tr>\n",
       "      <th>1</th>\n",
       "      <td>USCGC Benson\\nFPO AP 48794</td>\n",
       "      <td>2016-07-08</td>\n",
       "      <td>moorelisa@gmail.com</td>\n",
       "      <td>Melissa Kim</td>\n",
       "      <td>F</td>\n",
       "      <td>cgilbert</td>\n",
       "      <td>Exotic Extras,Beef Chicharon,(x3);HealthyKid 3...</td>\n",
       "      <td>12056</td>\n",
       "      <td>2022-01-12</td>\n",
       "      <td>January</td>\n",
       "      <td>1</td>\n",
       "      <td>Exotic Extras</td>\n",
       "      <td>3</td>\n",
       "      <td>0</td>\n",
       "    </tr>\n",
       "    <tr>\n",
       "      <th>1</th>\n",
       "      <td>USCGC Benson\\nFPO AP 48794</td>\n",
       "      <td>2016-07-08</td>\n",
       "      <td>moorelisa@gmail.com</td>\n",
       "      <td>Melissa Kim</td>\n",
       "      <td>F</td>\n",
       "      <td>cgilbert</td>\n",
       "      <td>Exotic Extras,Beef Chicharon,(x3);HealthyKid 3...</td>\n",
       "      <td>12056</td>\n",
       "      <td>2022-01-12</td>\n",
       "      <td>January</td>\n",
       "      <td>1</td>\n",
       "      <td>Beef Chicharon</td>\n",
       "      <td>3</td>\n",
       "      <td>0</td>\n",
       "    </tr>\n",
       "    <tr>\n",
       "      <th>1</th>\n",
       "      <td>USCGC Benson\\nFPO AP 48794</td>\n",
       "      <td>2016-07-08</td>\n",
       "      <td>moorelisa@gmail.com</td>\n",
       "      <td>Melissa Kim</td>\n",
       "      <td>F</td>\n",
       "      <td>cgilbert</td>\n",
       "      <td>Exotic Extras,Beef Chicharon,(x3);HealthyKid 3...</td>\n",
       "      <td>12056</td>\n",
       "      <td>2022-01-12</td>\n",
       "      <td>January</td>\n",
       "      <td>1</td>\n",
       "      <td>HealthyKid 3+</td>\n",
       "      <td>4</td>\n",
       "      <td>0</td>\n",
       "    </tr>\n",
       "    <tr>\n",
       "      <th>...</th>\n",
       "      <td>...</td>\n",
       "      <td>...</td>\n",
       "      <td>...</td>\n",
       "      <td>...</td>\n",
       "      <td>...</td>\n",
       "      <td>...</td>\n",
       "      <td>...</td>\n",
       "      <td>...</td>\n",
       "      <td>...</td>\n",
       "      <td>...</td>\n",
       "      <td>...</td>\n",
       "      <td>...</td>\n",
       "      <td>...</td>\n",
       "      <td>...</td>\n",
       "    </tr>\n",
       "    <tr>\n",
       "      <th>83035</th>\n",
       "      <td>PSC 1089, Box 3720\\nAPO AE 08973</td>\n",
       "      <td>2012-04-30</td>\n",
       "      <td>xjones@hotmail.com</td>\n",
       "      <td>Stephanie Russell</td>\n",
       "      <td>F</td>\n",
       "      <td>cmcdowell</td>\n",
       "      <td>HealthyKid 3+,Nutrional Milk,(x1);Candy City,G...</td>\n",
       "      <td>2639</td>\n",
       "      <td>2022-06-03</td>\n",
       "      <td>June</td>\n",
       "      <td>6</td>\n",
       "      <td>Nutrional Milk</td>\n",
       "      <td>1</td>\n",
       "      <td>5</td>\n",
       "    </tr>\n",
       "    <tr>\n",
       "      <th>83035</th>\n",
       "      <td>PSC 1089, Box 3720\\nAPO AE 08973</td>\n",
       "      <td>2012-04-30</td>\n",
       "      <td>xjones@hotmail.com</td>\n",
       "      <td>Stephanie Russell</td>\n",
       "      <td>F</td>\n",
       "      <td>cmcdowell</td>\n",
       "      <td>HealthyKid 3+,Nutrional Milk,(x1);Candy City,G...</td>\n",
       "      <td>2639</td>\n",
       "      <td>2022-06-03</td>\n",
       "      <td>June</td>\n",
       "      <td>6</td>\n",
       "      <td>Candy City</td>\n",
       "      <td>3</td>\n",
       "      <td>5</td>\n",
       "    </tr>\n",
       "    <tr>\n",
       "      <th>83035</th>\n",
       "      <td>PSC 1089, Box 3720\\nAPO AE 08973</td>\n",
       "      <td>2012-04-30</td>\n",
       "      <td>xjones@hotmail.com</td>\n",
       "      <td>Stephanie Russell</td>\n",
       "      <td>F</td>\n",
       "      <td>cmcdowell</td>\n",
       "      <td>HealthyKid 3+,Nutrional Milk,(x1);Candy City,G...</td>\n",
       "      <td>2639</td>\n",
       "      <td>2022-06-03</td>\n",
       "      <td>June</td>\n",
       "      <td>6</td>\n",
       "      <td>Gummy Worms</td>\n",
       "      <td>3</td>\n",
       "      <td>5</td>\n",
       "    </tr>\n",
       "    <tr>\n",
       "      <th>83035</th>\n",
       "      <td>PSC 1089, Box 3720\\nAPO AE 08973</td>\n",
       "      <td>2012-04-30</td>\n",
       "      <td>xjones@hotmail.com</td>\n",
       "      <td>Stephanie Russell</td>\n",
       "      <td>F</td>\n",
       "      <td>cmcdowell</td>\n",
       "      <td>HealthyKid 3+,Nutrional Milk,(x1);Candy City,G...</td>\n",
       "      <td>2639</td>\n",
       "      <td>2022-06-03</td>\n",
       "      <td>June</td>\n",
       "      <td>6</td>\n",
       "      <td>Candy City</td>\n",
       "      <td>1</td>\n",
       "      <td>5</td>\n",
       "    </tr>\n",
       "    <tr>\n",
       "      <th>83035</th>\n",
       "      <td>PSC 1089, Box 3720\\nAPO AE 08973</td>\n",
       "      <td>2012-04-30</td>\n",
       "      <td>xjones@hotmail.com</td>\n",
       "      <td>Stephanie Russell</td>\n",
       "      <td>F</td>\n",
       "      <td>cmcdowell</td>\n",
       "      <td>HealthyKid 3+,Nutrional Milk,(x1);Candy City,G...</td>\n",
       "      <td>2639</td>\n",
       "      <td>2022-06-03</td>\n",
       "      <td>June</td>\n",
       "      <td>6</td>\n",
       "      <td>Orange Beans</td>\n",
       "      <td>1</td>\n",
       "      <td>5</td>\n",
       "    </tr>\n",
       "  </tbody>\n",
       "</table>\n",
       "<p>332238 rows × 14 columns</p>\n",
       "</div>"
      ],
      "text/plain": [
       "                                address  birthdate                    mail  \\\n",
       "0             USNS Wagner\\nFPO AE 00917 1926-03-11  watsonbrenda@gmail.com   \n",
       "0             USNS Wagner\\nFPO AE 00917 1926-03-11  watsonbrenda@gmail.com   \n",
       "1            USCGC Benson\\nFPO AP 48794 2016-07-08     moorelisa@gmail.com   \n",
       "1            USCGC Benson\\nFPO AP 48794 2016-07-08     moorelisa@gmail.com   \n",
       "1            USCGC Benson\\nFPO AP 48794 2016-07-08     moorelisa@gmail.com   \n",
       "...                                 ...        ...                     ...   \n",
       "83035  PSC 1089, Box 3720\\nAPO AE 08973 2012-04-30      xjones@hotmail.com   \n",
       "83035  PSC 1089, Box 3720\\nAPO AE 08973 2012-04-30      xjones@hotmail.com   \n",
       "83035  PSC 1089, Box 3720\\nAPO AE 08973 2012-04-30      xjones@hotmail.com   \n",
       "83035  PSC 1089, Box 3720\\nAPO AE 08973 2012-04-30      xjones@hotmail.com   \n",
       "83035  PSC 1089, Box 3720\\nAPO AE 08973 2012-04-30      xjones@hotmail.com   \n",
       "\n",
       "                    name sex       username  \\\n",
       "0      Jennifer Campbell   F  veronicawells   \n",
       "0      Jennifer Campbell   F  veronicawells   \n",
       "1            Melissa Kim   F       cgilbert   \n",
       "1            Melissa Kim   F       cgilbert   \n",
       "1            Melissa Kim   F       cgilbert   \n",
       "...                  ...  ..            ...   \n",
       "83035  Stephanie Russell   F      cmcdowell   \n",
       "83035  Stephanie Russell   F      cmcdowell   \n",
       "83035  Stephanie Russell   F      cmcdowell   \n",
       "83035  Stephanie Russell   F      cmcdowell   \n",
       "83035  Stephanie Russell   F      cmcdowell   \n",
       "\n",
       "                                       transaction_items  transaction_value  \\\n",
       "0                      Exotic Extras,Beef Chicharon,(x4)               5196   \n",
       "0                      Exotic Extras,Beef Chicharon,(x4)               5196   \n",
       "1      Exotic Extras,Beef Chicharon,(x3);HealthyKid 3...              12056   \n",
       "1      Exotic Extras,Beef Chicharon,(x3);HealthyKid 3...              12056   \n",
       "1      Exotic Extras,Beef Chicharon,(x3);HealthyKid 3...              12056   \n",
       "...                                                  ...                ...   \n",
       "83035  HealthyKid 3+,Nutrional Milk,(x1);Candy City,G...               2639   \n",
       "83035  HealthyKid 3+,Nutrional Milk,(x1);Candy City,G...               2639   \n",
       "83035  HealthyKid 3+,Nutrional Milk,(x1);Candy City,G...               2639   \n",
       "83035  HealthyKid 3+,Nutrional Milk,(x1);Candy City,G...               2639   \n",
       "83035  HealthyKid 3+,Nutrional Milk,(x1);Candy City,G...               2639   \n",
       "\n",
       "      transaction_date    month  month_num    product_name  \\\n",
       "0           2022-01-12  January          1   Exotic Extras   \n",
       "0           2022-01-12  January          1  Beef Chicharon   \n",
       "1           2022-01-12  January          1   Exotic Extras   \n",
       "1           2022-01-12  January          1  Beef Chicharon   \n",
       "1           2022-01-12  January          1   HealthyKid 3+   \n",
       "...                ...      ...        ...             ...   \n",
       "83035       2022-06-03     June          6  Nutrional Milk   \n",
       "83035       2022-06-03     June          6      Candy City   \n",
       "83035       2022-06-03     June          6     Gummy Worms   \n",
       "83035       2022-06-03     June          6      Candy City   \n",
       "83035       2022-06-03     June          6    Orange Beans   \n",
       "\n",
       "       number_of_purchases  previous_month_num  \n",
       "0                        4                   0  \n",
       "0                        4                   0  \n",
       "1                        3                   0  \n",
       "1                        3                   0  \n",
       "1                        4                   0  \n",
       "...                    ...                 ...  \n",
       "83035                    1                   5  \n",
       "83035                    3                   5  \n",
       "83035                    3                   5  \n",
       "83035                    1                   5  \n",
       "83035                    1                   5  \n",
       "\n",
       "[332238 rows x 14 columns]"
      ]
     },
     "execution_count": 23,
     "metadata": {},
     "output_type": "execute_result"
    }
   ],
   "source": [
    "df"
   ]
  },
  {
   "cell_type": "markdown",
   "id": "b946d367",
   "metadata": {},
   "source": [
    "### Number of Purchases by Product"
   ]
  },
  {
   "cell_type": "markdown",
   "id": "1b0e9f5a",
   "metadata": {},
   "source": [
    " We used the group by to get the summarize number of transactions per month.  Group by in python is like group by in sql"
   ]
  },
  {
   "cell_type": "code",
   "execution_count": null,
   "id": "5d68797c",
   "metadata": {
    "scrolled": true
   },
   "outputs": [],
   "source": [
    "df_by_product = df.groupby(['month_num','month','product_name'])['number_of_purchases'].sum().reset_index().sort_values(['month_num','number_of_purchases'],axis=0,ascending= False)"
   ]
  },
  {
   "cell_type": "markdown",
   "id": "34273919",
   "metadata": {},
   "source": [
    "Another group by to get the overall number of purchase by month "
   ]
  },
  {
   "cell_type": "code",
   "execution_count": null,
   "id": "e3b4d352",
   "metadata": {},
   "outputs": [],
   "source": [
    "print(df_by_product)"
   ]
  },
  {
   "cell_type": "code",
   "execution_count": null,
   "id": "ef47bc9d",
   "metadata": {},
   "outputs": [],
   "source": [
    "monthly_count_purchases = df_by_product.groupby(['month_num'])['number_of_purchases'].sum().reset_index()"
   ]
  },
  {
   "cell_type": "code",
   "execution_count": null,
   "id": "47930e17",
   "metadata": {},
   "outputs": [],
   "source": [
    "monthly_count_purchases"
   ]
  },
  {
   "cell_type": "markdown",
   "id": "f9b47792",
   "metadata": {},
   "source": [
    "For the transaction value we have to drop the duplicates by transaction date and username, Since we converted the current data to rows. It creates duplicates in trasaction value. The granular Table we made is only applicable to the number of purchases . "
   ]
  },
  {
   "cell_type": "code",
   "execution_count": null,
   "id": "2699c9ef",
   "metadata": {},
   "outputs": [],
   "source": [
    "monthly_numbers = df.drop_duplicates(subset = ['transaction_date','username'])"
   ]
  },
  {
   "cell_type": "markdown",
   "id": "89d3599c",
   "metadata": {},
   "source": [
    "Group by month to get the transaction value by month. "
   ]
  },
  {
   "cell_type": "code",
   "execution_count": null,
   "id": "f45fa6fe",
   "metadata": {},
   "outputs": [],
   "source": [
    "monthly_numbers = monthly_numbers.groupby(['month','month_num'])['transaction_value'].sum().reset_index().sort_values(['month_num','transaction_value'],ascending=False)"
   ]
  },
  {
   "cell_type": "code",
   "execution_count": null,
   "id": "a68d8c06",
   "metadata": {},
   "outputs": [],
   "source": [
    "monthly_numbers = monthly_numbers.merge( monthly_count_purchases, how='left', on='month_num')"
   ]
  },
  {
   "cell_type": "markdown",
   "id": "22b607a9",
   "metadata": {},
   "source": [
    " Converted the data type of transaction value to float to show decimals"
   ]
  },
  {
   "cell_type": "code",
   "execution_count": null,
   "id": "9ab2319f",
   "metadata": {},
   "outputs": [],
   "source": [
    "monthly_numbers['transaction_value'] = monthly_numbers['transaction_value'].astype(float)"
   ]
  },
  {
   "cell_type": "code",
   "execution_count": null,
   "id": "5f5a111e",
   "metadata": {},
   "outputs": [],
   "source": []
  },
  {
   "cell_type": "markdown",
   "id": "179400b0",
   "metadata": {},
   "source": [
    "# Monthly Numbers"
   ]
  },
  {
   "cell_type": "code",
   "execution_count": null,
   "id": "674cff05",
   "metadata": {},
   "outputs": [],
   "source": [
    "monthly_numbers"
   ]
  },
  {
   "cell_type": "markdown",
   "id": "c48c1415",
   "metadata": {},
   "source": [
    "## Monthly Repeater"
   ]
  },
  {
   "cell_type": "markdown",
   "id": "4b6b84cc",
   "metadata": {},
   "source": [
    "1st We group by the data by month and  convert all the username to a single row by by applying lambda x.join()\n",
    "2nd The shift(1) , it shifts the value of the month by 1 . "
   ]
  },
  {
   "cell_type": "code",
   "execution_count": 26,
   "id": "5a8cbc02",
   "metadata": {},
   "outputs": [],
   "source": [
    "previous_month_list = df.groupby(['month_num']).username.apply(lambda x: ','.join(x)).shift(1).fillna('').reset_index().rename({'username': 'previous_list'}, axis=1)\n"
   ]
  },
  {
   "cell_type": "code",
   "execution_count": 28,
   "id": "12177d00",
   "metadata": {},
   "outputs": [
    {
     "data": {
      "text/html": [
       "<div>\n",
       "<style scoped>\n",
       "    .dataframe tbody tr th:only-of-type {\n",
       "        vertical-align: middle;\n",
       "    }\n",
       "\n",
       "    .dataframe tbody tr th {\n",
       "        vertical-align: top;\n",
       "    }\n",
       "\n",
       "    .dataframe thead th {\n",
       "        text-align: right;\n",
       "    }\n",
       "</style>\n",
       "<table border=\"1\" class=\"dataframe\">\n",
       "  <thead>\n",
       "    <tr style=\"text-align: right;\">\n",
       "      <th></th>\n",
       "      <th>month_num</th>\n",
       "      <th>previous_list</th>\n",
       "    </tr>\n",
       "  </thead>\n",
       "  <tbody>\n",
       "    <tr>\n",
       "      <th>0</th>\n",
       "      <td>1</td>\n",
       "      <td></td>\n",
       "    </tr>\n",
       "    <tr>\n",
       "      <th>1</th>\n",
       "      <td>2</td>\n",
       "      <td>veronicawells,veronicawells,cgilbert,cgilbert,...</td>\n",
       "    </tr>\n",
       "    <tr>\n",
       "      <th>2</th>\n",
       "      <td>3</td>\n",
       "      <td>veronicawells,veronicawells,veronicawells,vero...</td>\n",
       "    </tr>\n",
       "    <tr>\n",
       "      <th>3</th>\n",
       "      <td>4</td>\n",
       "      <td>veronicawells,veronicawells,cgilbert,cgilbert,...</td>\n",
       "    </tr>\n",
       "    <tr>\n",
       "      <th>4</th>\n",
       "      <td>5</td>\n",
       "      <td>cgilbert,cgilbert,cgilbert,cgilbert,qhernandez...</td>\n",
       "    </tr>\n",
       "    <tr>\n",
       "      <th>5</th>\n",
       "      <td>6</td>\n",
       "      <td>cgilbert,cgilbert,cgilbert,cgilbert,cgilbert,c...</td>\n",
       "    </tr>\n",
       "  </tbody>\n",
       "</table>\n",
       "</div>"
      ],
      "text/plain": [
       "   month_num                                      previous_list\n",
       "0          1                                                   \n",
       "1          2  veronicawells,veronicawells,cgilbert,cgilbert,...\n",
       "2          3  veronicawells,veronicawells,veronicawells,vero...\n",
       "3          4  veronicawells,veronicawells,cgilbert,cgilbert,...\n",
       "4          5  cgilbert,cgilbert,cgilbert,cgilbert,qhernandez...\n",
       "5          6  cgilbert,cgilbert,cgilbert,cgilbert,cgilbert,c..."
      ]
     },
     "execution_count": 28,
     "metadata": {},
     "output_type": "execute_result"
    }
   ],
   "source": [
    "previous_month_list"
   ]
  },
  {
   "cell_type": "markdown",
   "id": "476d5952",
   "metadata": {},
   "source": [
    " We join the above dataframe to our main raw dataframe using pandas merge.\n",
    " And apply lambda to determine if the current username exist in previous_list column "
   ]
  },
  {
   "cell_type": "code",
   "execution_count": null,
   "id": "22612854",
   "metadata": {},
   "outputs": [],
   "source": [
    "repeater = pd.merge(df, previous_month_list, how='left', on='month_num')\n",
    "repeater['repeaters'] =repeater.apply(lambda row: row['username'] in row['previous_list'], axis=1)\n"
   ]
  },
  {
   "cell_type": "code",
   "execution_count": null,
   "id": "e97b0073",
   "metadata": {},
   "outputs": [],
   "source": [
    "repeater = repeater.drop_duplicates(subset = ['month','username'])"
   ]
  },
  {
   "cell_type": "markdown",
   "id": "a8f08ae4",
   "metadata": {},
   "source": [
    "We applied np.select with the condition of if the column 'repeaters' is true value should be 1\n"
   ]
  },
  {
   "cell_type": "code",
   "execution_count": null,
   "id": "51d67f01",
   "metadata": {},
   "outputs": [],
   "source": [
    "repeater['repeater_count'] = np.select([repeater['repeaters'] == True],[1],default=0)"
   ]
  },
  {
   "cell_type": "markdown",
   "id": "265669b8",
   "metadata": {},
   "source": [
    "Finally with the group by to get the monthly numbers by month"
   ]
  },
  {
   "cell_type": "code",
   "execution_count": null,
   "id": "5947437d",
   "metadata": {},
   "outputs": [],
   "source": [
    "repeater = repeater.groupby(['month_num'])['repeater_count'].sum().reset_index()"
   ]
  },
  {
   "cell_type": "code",
   "execution_count": null,
   "id": "bbaa4dd8",
   "metadata": {},
   "outputs": [],
   "source": [
    "repeater"
   ]
  },
  {
   "cell_type": "markdown",
   "id": "70888801",
   "metadata": {},
   "source": [
    "## Monthly Active numbers"
   ]
  },
  {
   "cell_type": "markdown",
   "id": "32891b55",
   "metadata": {},
   "source": [
    "drop the duplicates by month and username since we only need to know if they exists in a current month"
   ]
  },
  {
   "cell_type": "code",
   "execution_count": 30,
   "id": "ea46603e",
   "metadata": {},
   "outputs": [],
   "source": [
    "df_active_engaged = df.drop_duplicates(subset = ['month','username'])"
   ]
  },
  {
   "cell_type": "markdown",
   "id": "27b325da",
   "metadata": {},
   "source": [
    "Make a new column count with value of 1 "
   ]
  },
  {
   "cell_type": "code",
   "execution_count": 31,
   "id": "0ede9ff4",
   "metadata": {},
   "outputs": [],
   "source": [
    "df_active_engaged['count'] = 1"
   ]
  },
  {
   "cell_type": "markdown",
   "id": "5f5a8775",
   "metadata": {},
   "source": [
    "First is get the unique values of  month_num column and apply it in loop.\n",
    "Each value represents the month number of the month \n",
    "1 for January 2 for Februany and so on..... \n",
    "We used the logic of <= month_num to determine wheter if they exists in current month and previous month\n",
    "\n",
    "Then we group by by username inside the loop to get if they exists in the current month. \n",
    "Then we asign x for column[month_num]\n",
    "\n",
    "then we append it to the blank list we created. which is frame = []\n"
   ]
  },
  {
   "cell_type": "code",
   "execution_count": 35,
   "id": "caffd706",
   "metadata": {},
   "outputs": [],
   "source": [
    "frame = []\n",
    "for x in df_active_engaged['month_num'].unique():\n",
    "    df_ = df_active_engaged[df_active_engaged['month_num']<= x]\n",
    "    df_ = df_.groupby(['username']).sum().reset_index()\n",
    "    df_['month_num'] = x\n",
    "#     df_ = df[['month_num','username','count']]\n",
    "    frame.append(df_)\n",
    "                       \n",
    "    "
   ]
  },
  {
   "cell_type": "markdown",
   "id": "af194c98",
   "metadata": {},
   "source": [
    "We convert the blank frame which has already the data of the loop we created. Using pd.concat it convert the list to dataframe"
   ]
  },
  {
   "cell_type": "code",
   "execution_count": 36,
   "id": "f2707dc1",
   "metadata": {},
   "outputs": [],
   "source": [
    "df_active_engaged = pd.concat(frame)"
   ]
  },
  {
   "cell_type": "code",
   "execution_count": 37,
   "id": "12f9f309",
   "metadata": {},
   "outputs": [],
   "source": [
    "df_active_engaged = df_active_engaged[['month_num','username','count']]"
   ]
  },
  {
   "cell_type": "markdown",
   "id": "ba5bf48e",
   "metadata": {},
   "source": [
    "np.select is applied to determine whether they exists in the current month and the last previous month.\n",
    "To check if they are active in everymonth, the column count should be equal to the month_num "
   ]
  },
  {
   "cell_type": "code",
   "execution_count": null,
   "id": "4874d05b",
   "metadata": {},
   "outputs": [],
   "source": []
  },
  {
   "cell_type": "code",
   "execution_count": null,
   "id": "6e342cb2",
   "metadata": {},
   "outputs": [],
   "source": [
    "df_active_engaged['engaged'] = np.select([(df_active_engaged['month_num'] - df_active_engaged['count']== 0) & (df_active_engaged['month_num'] != 1)],[1],default=0)"
   ]
  },
  {
   "cell_type": "code",
   "execution_count": null,
   "id": "327b432d",
   "metadata": {},
   "outputs": [],
   "source": [
    "df_active_engaged = df_active_engaged.groupby(['month_num'])['engaged'].sum().reset_index()"
   ]
  },
  {
   "cell_type": "code",
   "execution_count": null,
   "id": "e3c7bc3b",
   "metadata": {},
   "outputs": [],
   "source": [
    "df_active_engaged"
   ]
  },
  {
   "cell_type": "markdown",
   "id": "e7c8d565",
   "metadata": {},
   "source": [
    "## Inactive List"
   ]
  },
  {
   "cell_type": "markdown",
   "id": "5a06fd88",
   "metadata": {},
   "source": [
    "Drop the duplicate by month_num and username"
   ]
  },
  {
   "cell_type": "code",
   "execution_count": 39,
   "id": "6f3cf9d7",
   "metadata": {},
   "outputs": [],
   "source": [
    "df_inactive = df.drop_duplicates(subset = ['month_num','username'])"
   ]
  },
  {
   "cell_type": "code",
   "execution_count": 40,
   "id": "a6b865b3",
   "metadata": {},
   "outputs": [],
   "source": [
    "df_inactive = df_inactive[['month_num','username']]"
   ]
  },
  {
   "cell_type": "markdown",
   "id": "9f3bb505",
   "metadata": {},
   "source": [
    "\n",
    "\n",
    "We applied same logic from the active number list. \n",
    "\n",
    "Get the unique value of month_num column.\n",
    "\n",
    "Apply it to loop.\n",
    "x = month_num\n",
    "\n",
    "First we assign\n",
    "    df_a as active in the current month. We sliced the frame by the current month_num.\n",
    "    df_i as the inactive list , we sliced the frame by the month_num < x which is the current month_num\n",
    "    To avoid duplicate we drop duplicate by username\n",
    "    Then we check if the username  from the df_i does not exists in df_a(active from prevous months) using \"isin\" . the operator \"~\" returns the opposite value of the logic we applied. \n",
    "    Then we do the group by\n",
    "    and comes up with the iactive count by month"
   ]
  },
  {
   "cell_type": "code",
   "execution_count": 41,
   "id": "29e46ef3",
   "metadata": {},
   "outputs": [],
   "source": [
    "inactive_frame = []\n",
    "for x in df_inactive['month_num'].unique():\n",
    "    \n",
    "    df_a = df_inactive[df_inactive['month_num'] == x]\n",
    "    df_i = df_inactive[df_inactive['month_num']< x]\n",
    "    df_i = df_i.drop_duplicates(subset = 'username')\n",
    "    df_i = df_i[~df_i['username'].isin(df_a['username'])]\n",
    "    df_i = df_i['username'].count()\n",
    "    df_a = df_a.groupby(['month_num']).count().reset_index()\n",
    "    df_a['inactive'] = df_i\n",
    "    df_a['month_num_'] = x\n",
    "\n",
    "    \n",
    "#     df_ = df[['month_num','username','count']]\n",
    "    inactive_frame.append(df_a)\n",
    "                       "
   ]
  },
  {
   "cell_type": "code",
   "execution_count": 42,
   "id": "d79517b3",
   "metadata": {},
   "outputs": [],
   "source": [
    "inactive_frame = pd.concat(inactive_frame)"
   ]
  },
  {
   "cell_type": "code",
   "execution_count": 43,
   "id": "848ed084",
   "metadata": {},
   "outputs": [],
   "source": [
    "inactive_frame = inactive_frame[['month_num_','inactive','username']]"
   ]
  },
  {
   "cell_type": "code",
   "execution_count": 44,
   "id": "af37a543",
   "metadata": {},
   "outputs": [],
   "source": [
    "inactive_frame.rename(columns ={'month_num_': 'month_num','username':'monthly_customer_count'},inplace=True)"
   ]
  },
  {
   "cell_type": "code",
   "execution_count": 45,
   "id": "0dbf1c08",
   "metadata": {},
   "outputs": [
    {
     "data": {
      "text/html": [
       "<div>\n",
       "<style scoped>\n",
       "    .dataframe tbody tr th:only-of-type {\n",
       "        vertical-align: middle;\n",
       "    }\n",
       "\n",
       "    .dataframe tbody tr th {\n",
       "        vertical-align: top;\n",
       "    }\n",
       "\n",
       "    .dataframe thead th {\n",
       "        text-align: right;\n",
       "    }\n",
       "</style>\n",
       "<table border=\"1\" class=\"dataframe\">\n",
       "  <thead>\n",
       "    <tr style=\"text-align: right;\">\n",
       "      <th></th>\n",
       "      <th>month_num</th>\n",
       "      <th>inactive</th>\n",
       "      <th>monthly_customer_count</th>\n",
       "    </tr>\n",
       "  </thead>\n",
       "  <tbody>\n",
       "    <tr>\n",
       "      <th>0</th>\n",
       "      <td>1</td>\n",
       "      <td>0</td>\n",
       "      <td>6583</td>\n",
       "    </tr>\n",
       "    <tr>\n",
       "      <th>0</th>\n",
       "      <td>2</td>\n",
       "      <td>1416</td>\n",
       "      <td>6630</td>\n",
       "    </tr>\n",
       "    <tr>\n",
       "      <th>0</th>\n",
       "      <td>3</td>\n",
       "      <td>1728</td>\n",
       "      <td>6658</td>\n",
       "    </tr>\n",
       "    <tr>\n",
       "      <th>0</th>\n",
       "      <td>4</td>\n",
       "      <td>1912</td>\n",
       "      <td>6568</td>\n",
       "    </tr>\n",
       "    <tr>\n",
       "      <th>0</th>\n",
       "      <td>5</td>\n",
       "      <td>1915</td>\n",
       "      <td>6587</td>\n",
       "    </tr>\n",
       "    <tr>\n",
       "      <th>0</th>\n",
       "      <td>6</td>\n",
       "      <td>1840</td>\n",
       "      <td>6665</td>\n",
       "    </tr>\n",
       "  </tbody>\n",
       "</table>\n",
       "</div>"
      ],
      "text/plain": [
       "   month_num  inactive  monthly_customer_count\n",
       "0          1         0                    6583\n",
       "0          2      1416                    6630\n",
       "0          3      1728                    6658\n",
       "0          4      1912                    6568\n",
       "0          5      1915                    6587\n",
       "0          6      1840                    6665"
      ]
     },
     "execution_count": 45,
     "metadata": {},
     "output_type": "execute_result"
    }
   ],
   "source": [
    "inactive_frame"
   ]
  },
  {
   "cell_type": "markdown",
   "id": "54b65765",
   "metadata": {},
   "source": [
    "# Summary"
   ]
  },
  {
   "cell_type": "markdown",
   "id": "dd5bff60",
   "metadata": {},
   "source": [
    "Merge all the frame we created earlier"
   ]
  },
  {
   "cell_type": "code",
   "execution_count": null,
   "id": "ba7555eb",
   "metadata": {},
   "outputs": [],
   "source": [
    "summary = monthly_numbers.merge(repeater,on='month_num',how='left')"
   ]
  },
  {
   "cell_type": "code",
   "execution_count": null,
   "id": "ff3277e5",
   "metadata": {},
   "outputs": [],
   "source": [
    "summary = summary.merge(df_active_engaged,on='month_num',how='left')"
   ]
  },
  {
   "cell_type": "code",
   "execution_count": null,
   "id": "4a0c03c4",
   "metadata": {},
   "outputs": [],
   "source": [
    "summary = summary.merge(inactive_frame,on='month_num',how='left')"
   ]
  },
  {
   "cell_type": "code",
   "execution_count": null,
   "id": "b363d765",
   "metadata": {},
   "outputs": [],
   "source": [
    "summary = summary.sort_values(['month_num'],ascending=True)"
   ]
  },
  {
   "cell_type": "markdown",
   "id": "47f8c48d",
   "metadata": {},
   "source": [
    "slice the frame and only get the column we needed"
   ]
  },
  {
   "cell_type": "code",
   "execution_count": null,
   "id": "7198c5cc",
   "metadata": {},
   "outputs": [],
   "source": [
    "summary = summary[['month', 'transaction_value', 'number_of_purchases',\n",
    "\n",
    "                   'repeater_count', 'engaged', 'inactive', 'monthly_customer_count']]"
   ]
  },
  {
   "cell_type": "code",
   "execution_count": null,
   "id": "e01be8c6",
   "metadata": {},
   "outputs": [],
   "source": []
  },
  {
   "cell_type": "code",
   "execution_count": null,
   "id": "59a66555",
   "metadata": {},
   "outputs": [],
   "source": []
  },
  {
   "cell_type": "code",
   "execution_count": null,
   "id": "ca7e31e9",
   "metadata": {},
   "outputs": [],
   "source": [
    "rowEvenColor = 'lightgrey'\n",
    "rowOddColor = 'white'\n",
    "\n",
    "\n",
    "fig = make_subplots(\n",
    "    rows=3, cols=1,\n",
    "    shared_xaxes=True,\n",
    "    vertical_spacing=0.03,\n",
    "    specs=[[{\"type\": \"table\"}],\n",
    "           [{\"type\": \"scatter\"}],\n",
    "           [{\"type\": \"scatter\"}]]\n",
    ")\n",
    "\n",
    "fig = go.Figure(data=[go.Table(\n",
    "\n",
    "    header=dict(values=['Month','Total Amount','# of Purchases','Repeater','Engaged','Inactive','# of Customers'],\n",
    "                fill_color='paleturquoise',\n",
    "                align='left'),\n",
    "    cells=dict(values=[summary.month, summary.transaction_value, summary.number_of_purchases, summary.repeater_count,\n",
    "                      summary.engaged,summary.inactive,summary.monthly_customer_count,],\n",
    "              #  fill_color = [[rowOddColor,rowEvenColor,rowOddColor, rowEvenColor,rowOddColor]*10],\n",
    "               fill_color='lavender',\n",
    "               align='left',\n",
    "              height = 60))\n",
    "],\n",
    "              )\n",
    "\n",
    "\n",
    "\n",
    "\n",
    "\n",
    "fig.update_layout(\n",
    "    title_text = 'Digi Foods Monthly Summary Analysis',\n",
    "    height = 800,\n",
    "    margin = {'t':75, 'l':50},\n",
    "    yaxis = {'domain': [0, .45]},\n",
    "    xaxis2 = {'anchor': 'y2'},\n",
    "    yaxis2 = {'domain': [.6, 1], 'anchor': 'x2', 'title': 'Goals'}\n",
    ")\n",
    "\n",
    "\n",
    "fig.show()"
   ]
  },
  {
   "cell_type": "code",
   "execution_count": null,
   "id": "225a4fba",
   "metadata": {},
   "outputs": [],
   "source": []
  },
  {
   "cell_type": "code",
   "execution_count": null,
   "id": "de2a1500",
   "metadata": {},
   "outputs": [],
   "source": [
    "fig = make_subplots(\n",
    "    rows=3, cols=1,\n",
    "    shared_xaxes=True,\n",
    "    vertical_spacing=0.03,\n",
    "    specs=[[{\"type\": \"table\"}],\n",
    "           [{\"type\": \"scatter\"}],\n",
    "           [{\"type\": \"scatter\"}]]\n",
    ")\n",
    "\n",
    "\n",
    "fig.add_trace(go.Bar(x=summary.month, y=summary.repeater_count, xaxis='x2', yaxis='y2',\n",
    "                marker=dict(color='#0099ff'),\n",
    "                name='Previous<br>Month<br>#'))\n",
    "\n",
    "fig.add_trace(go.Bar(x=summary.month, y=summary.inactive, xaxis='x2', yaxis='y2',\n",
    "                marker=dict(color='#40ffff'),\n",
    "                name='Inactive<br>#'))\n",
    "\n",
    "fig.add_trace(go.Bar(x=summary.month, y=summary.engaged, xaxis='x2', yaxis='y2',\n",
    "                marker=dict(color='#0030ff'),\n",
    "                name='Active<br>All<br>Months'))\n",
    "fig.add_trace(go.Bar(x=summary.month, y=summary.monthly_customer_count, xaxis='x2', yaxis='y2',\n",
    "                marker=dict(color='#003fff'),\n",
    "                name='Current<br>Active<br>Customers'))\n",
    "\n",
    "\n",
    "fig.update_layout(\n",
    "    title_text = 'Digi Foods Customer Analysis',\n",
    "    height = 800,\n",
    "    margin = {'t':100, 'l':50},\n",
    "    yaxis = {'domain': [0, .45]},\n",
    "    xaxis2 = {'anchor': 'y2'},\n",
    "    yaxis2 = {'domain': [.6, 1], 'anchor': 'x2', 'title': 'Number Of Customers'}\n",
    ")\n",
    "\n",
    "\n",
    "fig.show()"
   ]
  },
  {
   "cell_type": "code",
   "execution_count": null,
   "id": "f7310f72",
   "metadata": {},
   "outputs": [],
   "source": [
    "summary"
   ]
  },
  {
   "cell_type": "markdown",
   "id": "342999ae",
   "metadata": {},
   "source": [
    "### Slice the frame with the columns we only want to show in the visualization table"
   ]
  },
  {
   "cell_type": "code",
   "execution_count": null,
   "id": "26adb5eb",
   "metadata": {},
   "outputs": [],
   "source": [
    "df_by_product = df_by_product[['month','product_name','number_of_purchases']]"
   ]
  },
  {
   "cell_type": "code",
   "execution_count": null,
   "id": "11e6a536",
   "metadata": {},
   "outputs": [],
   "source": [
    "df_by_product.rename(columns={'month':'Month','product_name':\"Product Name\",\"number_of_purchases\":\"Number Of Purchases\"},inplace=True)"
   ]
  },
  {
   "cell_type": "code",
   "execution_count": null,
   "id": "5764846e",
   "metadata": {},
   "outputs": [],
   "source": [
    "fig = ff.create_table(df_by_product)\n",
    "fig.show()"
   ]
  },
  {
   "cell_type": "code",
   "execution_count": null,
   "id": "fbd94afa",
   "metadata": {},
   "outputs": [],
   "source": []
  }
 ],
 "metadata": {
  "kernelspec": {
   "display_name": "Python 3 (ipykernel)",
   "language": "python",
   "name": "python3"
  },
  "language_info": {
   "codemirror_mode": {
    "name": "ipython",
    "version": 3
   },
   "file_extension": ".py",
   "mimetype": "text/x-python",
   "name": "python",
   "nbconvert_exporter": "python",
   "pygments_lexer": "ipython3",
   "version": "3.10.4"
  }
 },
 "nbformat": 4,
 "nbformat_minor": 5
}
